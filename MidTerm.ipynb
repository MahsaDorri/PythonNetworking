{
 "cells": [
  {
   "cell_type": "code",
   "execution_count": 10,
   "metadata": {},
   "outputs": [
    {
     "name": "stdout",
     "output_type": "stream",
     "text": [
      "The sum of the first 80 multiples of 17 is 55080.\n"
     ]
    }
   ],
   "source": [
    "# Question 1\n",
    "start_num = 17\n",
    "multiples_to_sum = 80\n",
    "\n",
    "# Calculate the sum\n",
    "multiple = start_num\n",
    "sum = 0\n",
    "for i in range(multiples_to_sum):\n",
    "    sum += start_num\n",
    "    start_num += 17\n",
    "\n",
    "# Output the result\n",
    "print(f\"The sum of the first {multiples_to_sum} multiples of {multiple} is {sum}.\")\n"
   ]
  },
  {
   "cell_type": "code",
   "execution_count": 18,
   "metadata": {},
   "outputs": [
    {
     "name": "stdout",
     "output_type": "stream",
     "text": [
      "['Pershad Narendra', 'Li Yin', 'Lac Hao', 'Nika Ilia', 'Modi Narendra', 'Tirandazian Mehrdad', 'Gignac Patrick', 'Tapia Arben', 'Li Jet', 'Habayeb Mayy', 'Zouri Nicoletta', 'Vaithilingam Vinay']\n"
     ]
    }
   ],
   "source": [
    "# Question 2\n",
    "# Open the file for reading\n",
    "with open('C:/Users/63927/Downloads/wk07d_ques2.txt', 'r') as file:\n",
    "    # Read the lines and strip the newline characters\n",
    "    lines = file.readlines()\n",
    "    lines = [line.strip('\\n') for line in lines]\n",
    "\n",
    "    # Convert each name to title case\n",
    "    names = [name.lower().title() for name in lines]\n",
    "\n",
    "    # Display the list of names\n",
    "    print(names)\n",
    "\n"
   ]
  },
  {
   "cell_type": "code",
   "execution_count": 19,
   "metadata": {},
   "outputs": [
    {
     "name": "stdout",
     "output_type": "stream",
     "text": [
      "['I', 'lliw', 'eb', 'kcab']\n"
     ]
    }
   ],
   "source": [
    "# Question 3\n",
    "def reverse_word(lst):\n",
    "    reversed_lst = []\n",
    "    for word in lst:\n",
    "        reversed_word = ''\n",
    "        for i in range(len(word)-1, -1, -1):\n",
    "            reversed_word += word[i]\n",
    "        reversed_lst.append(reversed_word)\n",
    "    return reversed_lst\n",
    "\n",
    "print(f\"{reverse_word('I will be back'.split())}\")"
   ]
  },
  {
   "cell_type": "code",
   "execution_count": 28,
   "metadata": {},
   "outputs": [
    {
     "data": {
      "text/plain": [
       "{'a': 97, 'r': 114, 'c': 99, 'o': 111, 'i': 105}"
      ]
     },
     "execution_count": 28,
     "metadata": {},
     "output_type": "execute_result"
    }
   ],
   "source": [
    "# Question 4\n",
    "#1\n",
    "[name for name in \"Mahsa Dorri\"]\n",
    "\n",
    "#2\n",
    "set(name for name in \"Mahsa Dorri\")\n",
    "\n",
    "#3\n",
    "[name for name in \"Mahsa Dorri\" if name.lower() not in ('a', 'e', 'i', 'o', 'u')]\n",
    "\n",
    "#4\n",
    "[(index, name) for index, name in enumerate(\"Mahsa Dorri\")]\n",
    "\n",
    "#5\n",
    "{char: ord(char) for char in \"Mahsa Dorri\" if char.islower()}\n",
    "\n",
    "\n"
   ]
  }
 ],
 "metadata": {
  "kernelspec": {
   "display_name": "Python 3",
   "language": "python",
   "name": "python3"
  },
  "language_info": {
   "codemirror_mode": {
    "name": "ipython",
    "version": 3
   },
   "file_extension": ".py",
   "mimetype": "text/x-python",
   "name": "python",
   "nbconvert_exporter": "python",
   "pygments_lexer": "ipython3",
   "version": "3.10.10"
  },
  "orig_nbformat": 4,
  "vscode": {
   "interpreter": {
    "hash": "1ef79d2e56d661e1e7c3c934fbf2b0ba83893bd74e4d4309c592c42034d35001"
   }
  }
 },
 "nbformat": 4,
 "nbformat_minor": 2
}

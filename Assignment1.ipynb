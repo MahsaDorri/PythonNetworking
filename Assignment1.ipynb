{
 "cells": [
  {
   "cell_type": "code",
   "execution_count": 1,
   "metadata": {},
   "outputs": [],
   "source": [
    "\n",
    "class Pizza:\n",
    "    valid_size = (\"small\",\"medium\",\"large\",\"x-large\")\n",
    "    size_price = {\"small\":6.49,\"medium\":8.49,\"large\":10.49,\"x-large\":13.49}\n",
    "\n",
    "    def __init__(self, size=\"medium\", toppings=[\"cheese\"]):\n",
    "        if size not in Pizza.valid_size:\n",
    "            raise ValueError(f\"ERROR: {size} is not a valid size for pizza\")\n",
    "        self.size=size\n",
    "        self.toppings=toppings\n",
    "    \n",
    "    def price(self):\n",
    "        return Pizza.size_price[(self.size)] + len(self.toppings) * .5\n",
    "    \n",
    "    def __str__(self):\n",
    "        return f\"{self.size} pizza with {self.toppings} for ${self.price()}\"\n",
    "\n",
    "    def add(self,toppings):\n",
    "        self.toppings.extend(toppings)\n",
    "    \n",
    "    @property\n",
    "    def size(self):\n",
    "        return self._size\n",
    "\n",
    "    @size.setter\n",
    "    def size(self, value):\n",
    "        if value in Pizza.valid_size:\n",
    "            self._size = value\n",
    "        else:\n",
    "            raise ValueError(f\"ERROR: {value} is not a valid size for pizza\")"
   ]
  },
  {
   "cell_type": "code",
   "execution_count": 2,
   "metadata": {},
   "outputs": [
    {
     "name": "stdout",
     "output_type": "stream",
     "text": [
      "Creating a default pizza\n",
      "medium pizza with ['cheese'] for $8.99\n",
      "\n",
      "Adding topping: ['cheese', 'olive']\n",
      "medium pizza with ['cheese', 'cheese', 'olive'] for $9.99\n",
      "\n",
      "Creating a new pizza\n",
      "large pizza with ['cheese', 'pepper'] for $11.49\n",
      "\n",
      "Adding topping: ['pineapple', 'mushroom']\n",
      "large pizza with ['cheese', 'pepper', 'pineapple', 'mushroom'] for $12.49\n",
      "\n",
      "Changing order size to x-large\n",
      "x-large pizza with ['cheese', 'pepper', 'pineapple', 'mushroom'] for $15.49\n",
      "\n",
      "Changing order size to gigantic\n",
      "ERROR: gigantic is not a valid size for pizza\n"
     ]
    }
   ],
   "source": [
    "print(f'Creating a default pizza')\n",
    "p = Pizza()\n",
    "print(p)\n",
    "\n",
    "toppings = 'cheese olive'.split()\n",
    "print(f'\\nAdding topping: {toppings}')\n",
    "p.add(toppings=toppings)\n",
    "print(p)\n",
    "\n",
    "print(f'\\nCreating a new pizza')\n",
    "p = Pizza('large', 'cheese pepper'.split())\n",
    "print(p)\n",
    "\n",
    "toppings = ['pineapple', 'mushroom']\n",
    "print(f'\\nAdding topping: {toppings}')\n",
    "p.add(toppings)\n",
    "print(p)\n",
    "\n",
    "size = 'x-large'\n",
    "p.size = size\n",
    "print(f'\\nChanging order size to {size}')\n",
    "print(p)\n",
    "\n",
    "size = 'gigantic'\n",
    "print(f'\\nChanging order size to {size}')\n",
    "try:\n",
    "  p.size = size\n",
    "except ValueError as err:\n",
    "  print(err) \n"
   ]
  }
 ],
 "metadata": {
  "kernelspec": {
   "display_name": "Python 3",
   "language": "python",
   "name": "python3"
  },
  "language_info": {
   "codemirror_mode": {
    "name": "ipython",
    "version": 3
   },
   "file_extension": ".py",
   "mimetype": "text/x-python",
   "name": "python",
   "nbconvert_exporter": "python",
   "pygments_lexer": "ipython3",
   "version": "3.10.10"
  },
  "orig_nbformat": 4,
  "vscode": {
   "interpreter": {
    "hash": "1ef79d2e56d661e1e7c3c934fbf2b0ba83893bd74e4d4309c592c42034d35001"
   }
  }
 },
 "nbformat": 4,
 "nbformat_minor": 2
}
